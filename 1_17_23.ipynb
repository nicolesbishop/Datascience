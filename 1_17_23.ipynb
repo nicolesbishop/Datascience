{
  "nbformat": 4,
  "nbformat_minor": 0,
  "metadata": {
    "colab": {
      "provenance": [],
      "authorship_tag": "ABX9TyPziHlvNqk7GUNasdQsox19",
      "include_colab_link": true
    },
    "kernelspec": {
      "name": "python3",
      "display_name": "Python 3"
    },
    "language_info": {
      "name": "python"
    }
  },
  "cells": [
    {
      "cell_type": "markdown",
      "metadata": {
        "id": "view-in-github",
        "colab_type": "text"
      },
      "source": [
        "<a href=\"https://colab.research.google.com/github/nicolesbishop/Datascience/blob/main/1_17_23.ipynb\" target=\"_parent\"><img src=\"https://colab.research.google.com/assets/colab-badge.svg\" alt=\"Open In Colab\"/></a>"
      ]
    },
    {
      "cell_type": "code",
      "execution_count": null,
      "metadata": {
        "id": "fAy3DQ7oWCgF"
      },
      "outputs": [],
      "source": []
    },
    {
      "cell_type": "code",
      "source": [
        "# Python Beginner variables:\n",
        "#200 people need 2kg of food everyday, 1000kg for the truck to send food, how many trucks we need for all these people to survivie for 5 days?\n",
        "200*2\n"
      ],
      "metadata": {
        "colab": {
          "base_uri": "https://localhost:8080/"
        },
        "id": "NPjzORZlWrM-",
        "outputId": "095750f6-5849-4a94-92a6-e5f588555caa"
      },
      "execution_count": null,
      "outputs": [
        {
          "output_type": "execute_result",
          "data": {
            "text/plain": [
              "400"
            ]
          },
          "metadata": {},
          "execution_count": 1
        }
      ]
    },
    {
      "cell_type": "code",
      "source": [
        "400*5"
      ],
      "metadata": {
        "colab": {
          "base_uri": "https://localhost:8080/"
        },
        "id": "nEkD27mRXh-U",
        "outputId": "e22fa012-fbdf-4c54-a8c3-13de15161c2b"
      },
      "execution_count": null,
      "outputs": [
        {
          "output_type": "execute_result",
          "data": {
            "text/plain": [
              "2000"
            ]
          },
          "metadata": {},
          "execution_count": 2
        }
      ]
    },
    {
      "cell_type": "code",
      "source": [
        "2000/1000"
      ],
      "metadata": {
        "colab": {
          "base_uri": "https://localhost:8080/"
        },
        "id": "LKmMvvFXXmaU",
        "outputId": "042deda3-41ab-4f7d-e669-ac26c221ca6e"
      },
      "execution_count": null,
      "outputs": [
        {
          "output_type": "execute_result",
          "data": {
            "text/plain": [
              "2.0"
            ]
          },
          "metadata": {},
          "execution_count": 3
        }
      ]
    },
    {
      "cell_type": "code",
      "source": [
        "food_is_kg_per_day = 2"
      ],
      "metadata": {
        "id": "b2J0-EazXpLX"
      },
      "execution_count": null,
      "outputs": []
    },
    {
      "cell_type": "code",
      "source": [
        "number_peoples = 200"
      ],
      "metadata": {
        "id": "tmL7HW7iYAI3"
      },
      "execution_count": null,
      "outputs": []
    },
    {
      "cell_type": "code",
      "source": [
        "number_of_days = 5"
      ],
      "metadata": {
        "id": "pDDT1sX7YERk"
      },
      "execution_count": null,
      "outputs": []
    },
    {
      "cell_type": "code",
      "source": [
        "Truck_capacity_is_kg = 1000"
      ],
      "metadata": {
        "id": "Tv35Q5tAYG3Z"
      },
      "execution_count": null,
      "outputs": []
    },
    {
      "cell_type": "code",
      "source": [
        "total_food_in_kg_per_day = food_is_kg_per_day*number_peoples"
      ],
      "metadata": {
        "id": "LSllDIufYL6_"
      },
      "execution_count": null,
      "outputs": []
    },
    {
      "cell_type": "code",
      "source": [
        "total_food_in_kg = total_food_in_kg_per_day*number_of_days"
      ],
      "metadata": {
        "id": "tY2Qwq48YZPR"
      },
      "execution_count": null,
      "outputs": []
    },
    {
      "cell_type": "code",
      "source": [
        "num_of_trucks = total_food_in_kg/Truck_capacity_is_kg"
      ],
      "metadata": {
        "id": "x7QFHNioYkJj"
      },
      "execution_count": null,
      "outputs": []
    },
    {
      "cell_type": "code",
      "source": [
        "num_of_trucks\n"
      ],
      "metadata": {
        "colab": {
          "base_uri": "https://localhost:8080/"
        },
        "id": "0pNEmwu2YxHs",
        "outputId": "275c42c7-b24f-4082-8444-243081da66fc"
      },
      "execution_count": null,
      "outputs": [
        {
          "output_type": "execute_result",
          "data": {
            "text/plain": [
              "2.0"
            ]
          },
          "metadata": {},
          "execution_count": 14
        }
      ]
    },
    {
      "cell_type": "code",
      "source": [
        "print(num_of_trucks)"
      ],
      "metadata": {
        "colab": {
          "base_uri": "https://localhost:8080/"
        },
        "id": "xhHOjkaLYzsm",
        "outputId": "9ffb69b3-a612-4629-832c-19c863409516"
      },
      "execution_count": null,
      "outputs": [
        {
          "output_type": "stream",
          "name": "stdout",
          "text": [
            "2.0\n"
          ]
        }
      ]
    },
    {
      "cell_type": "code",
      "source": [
        "# Lesson is create functions.\n",
        "# If we need to send enough food for 400 people to survive for 10 days, how many trucks do we weed?\n",
        "\n",
        "\n"
      ],
      "metadata": {
        "id": "ExnZJaV9ZAeK"
      },
      "execution_count": 18,
      "outputs": []
    },
    {
      "cell_type": "markdown",
      "source": [
        "Function return"
      ],
      "metadata": {
        "id": "y7Leb-Sqrbec"
      }
    },
    {
      "cell_type": "code",
      "source": [
        "def get_num_trucks(food_is_kg_per_day,number_peoples,number_of_days,Truck_capacity_is_kg):\n",
        " total_food_in_kg_per_day = food_is_kg_per_day*number_peoples\n",
        " total_food_in_kg = total_food_in_kg_per_day*number_of_days\n",
        " num_of_trucks = total_food_in_kg/Truck_capacity_is_kg\n",
        "# print(num_of_trucks)\n",
        " return num_of_trucks"
      ],
      "metadata": {
        "id": "o6roTxhRZKdv"
      },
      "execution_count": 12,
      "outputs": []
    },
    {
      "cell_type": "code",
      "source": [
        "get_num_trucks(2,400,10,1000)"
      ],
      "metadata": {
        "colab": {
          "base_uri": "https://localhost:8080/"
        },
        "id": "OT76f5HPavsu",
        "outputId": "79d4b44d-2e59-4a36-9a7d-f258bdd786db"
      },
      "execution_count": 13,
      "outputs": [
        {
          "output_type": "execute_result",
          "data": {
            "text/plain": [
              "8.0"
            ]
          },
          "metadata": {},
          "execution_count": 13
        }
      ]
    },
    {
      "cell_type": "code",
      "source": [
        "get_num_trucks(2,200,5,1000)"
      ],
      "metadata": {
        "colab": {
          "base_uri": "https://localhost:8080/"
        },
        "id": "sMv3r6l9bJll",
        "outputId": "23e30974-25da-4a7d-fa01-4e29508193d5"
      },
      "execution_count": 14,
      "outputs": [
        {
          "output_type": "execute_result",
          "data": {
            "text/plain": [
              "2.0"
            ]
          },
          "metadata": {},
          "execution_count": 14
        }
      ]
    },
    {
      "cell_type": "code",
      "source": [
        "num_trucks_village_1 = get_num_trucks(2,400,10,1000)"
      ],
      "metadata": {
        "id": "-GFKRt4kcHBU"
      },
      "execution_count": 15,
      "outputs": []
    },
    {
      "cell_type": "code",
      "source": [
        "num_trucks_village_2 = get_num_trucks(2,200,5,1000)"
      ],
      "metadata": {
        "id": "OhC4bHPfqJL_"
      },
      "execution_count": 16,
      "outputs": []
    },
    {
      "cell_type": "code",
      "source": [
        " num_trucks_village_1 + num_trucks_village_2"
      ],
      "metadata": {
        "colab": {
          "base_uri": "https://localhost:8080/"
        },
        "id": "0HL0Fws9qM2f",
        "outputId": "0f0463d0-ff64-43e9-e7b1-0916fd141a95"
      },
      "execution_count": 17,
      "outputs": [
        {
          "output_type": "execute_result",
          "data": {
            "text/plain": [
              "10.0"
            ]
          },
          "metadata": {},
          "execution_count": 17
        }
      ]
    },
    {
      "cell_type": "markdown",
      "source": [
        "1. Build a function HelloWorld which returns \"Hello World\"\n"
      ],
      "metadata": {
        "id": "IChGb5y0rwNp"
      }
    },
    {
      "cell_type": "code",
      "source": [
        "def HelloWord():\n",
        "  return \"Hello World\""
      ],
      "metadata": {
        "id": "boPD3OYgqcu5"
      },
      "execution_count": 22,
      "outputs": []
    },
    {
      "cell_type": "code",
      "source": [
        "HelloWord"
      ],
      "metadata": {
        "colab": {
          "base_uri": "https://localhost:8080/"
        },
        "id": "SRI4vXRlsGHv",
        "outputId": "90f326c5-ad16-4476-dac0-a1e4d2eeba36"
      },
      "execution_count": 23,
      "outputs": [
        {
          "output_type": "execute_result",
          "data": {
            "text/plain": [
              "<function __main__.HelloWord()>"
            ]
          },
          "metadata": {},
          "execution_count": 23
        }
      ]
    },
    {
      "cell_type": "code",
      "source": [
        "HelloWord()"
      ],
      "metadata": {
        "colab": {
          "base_uri": "https://localhost:8080/",
          "height": 35
        },
        "id": "_2n0MpuRsXn2",
        "outputId": "be754a0e-7d92-493c-de6d-544fc18c92a8"
      },
      "execution_count": 24,
      "outputs": [
        {
          "output_type": "execute_result",
          "data": {
            "text/plain": [
              "'Hello World'"
            ],
            "application/vnd.google.colaboratory.intrinsic+json": {
              "type": "string"
            }
          },
          "metadata": {},
          "execution_count": 24
        }
      ]
    },
    {
      "cell_type": "code",
      "source": [],
      "metadata": {
        "id": "XJzzQ7Aisbnc"
      },
      "execution_count": null,
      "outputs": []
    },
    {
      "cell_type": "markdown",
      "source": [
        "2. Build a function from ILBS to KG which takes in pound as input and returns the corresponding value in KG, One pound = 0.4536\n",
        "\n",
        "Example: \n",
        "LB2KG(1) returns 0.4536"
      ],
      "metadata": {
        "id": "016CiDAgses4"
      }
    },
    {
      "cell_type": "code",
      "source": [
        "def LB2KG(weight_in_pounds):\n",
        "  weight_in_KG = weight_in_pounds * 0.4536\n",
        "  return weight_in_KG"
      ],
      "metadata": {
        "id": "sYuZ6cIFtB1L"
      },
      "execution_count": 29,
      "outputs": []
    },
    {
      "cell_type": "code",
      "source": [
        "LB2KG(22)"
      ],
      "metadata": {
        "colab": {
          "base_uri": "https://localhost:8080/"
        },
        "id": "XYhswopctdbH",
        "outputId": "4cac16bd-fac1-4599-afed-4433c76cffd1"
      },
      "execution_count": 30,
      "outputs": [
        {
          "output_type": "execute_result",
          "data": {
            "text/plain": [
              "9.9792"
            ]
          },
          "metadata": {},
          "execution_count": 30
        }
      ]
    },
    {
      "cell_type": "code",
      "source": [
        "LB2KG(33)"
      ],
      "metadata": {
        "colab": {
          "base_uri": "https://localhost:8080/"
        },
        "id": "tHVFeMBFt7g_",
        "outputId": "c4e5010e-584b-4b71-e5e5-0541ddf7ecec"
      },
      "execution_count": 31,
      "outputs": [
        {
          "output_type": "execute_result",
          "data": {
            "text/plain": [
              "14.9688"
            ]
          },
          "metadata": {},
          "execution_count": 31
        }
      ]
    },
    {
      "cell_type": "code",
      "source": [
        "def Odd(number):\n",
        " if number %2 == 0 :\n",
        "   return False\n",
        " else:\n",
        "   return True\n",
        "  # if number %2 != 0 :"
      ],
      "metadata": {
        "id": "5c_8qI2juA8x"
      },
      "execution_count": 55,
      "outputs": []
    },
    {
      "cell_type": "code",
      "source": [
        "def Odd(number):\n",
        "  return number %2 !=0"
      ],
      "metadata": {
        "id": "-wsJuYivxXWR"
      },
      "execution_count": 63,
      "outputs": []
    },
    {
      "cell_type": "code",
      "source": [
        "Odd(22222223)"
      ],
      "metadata": {
        "colab": {
          "base_uri": "https://localhost:8080/"
        },
        "id": "5d337mGuxlXu",
        "outputId": "5a399bfc-2c7f-4043-a876-577346d311c4"
      },
      "execution_count": 66,
      "outputs": [
        {
          "output_type": "execute_result",
          "data": {
            "text/plain": [
              "True"
            ]
          },
          "metadata": {},
          "execution_count": 66
        }
      ]
    },
    {
      "cell_type": "code",
      "source": [
        "\n",
        "Odd(4)"
      ],
      "metadata": {
        "colab": {
          "base_uri": "https://localhost:8080/"
        },
        "id": "G3acJ7pKvUZD",
        "outputId": "fd45fbd5-4d74-4888-8a80-b72f867ebc85"
      },
      "execution_count": 64,
      "outputs": [
        {
          "output_type": "execute_result",
          "data": {
            "text/plain": [
              "False"
            ]
          },
          "metadata": {},
          "execution_count": 64
        }
      ]
    },
    {
      "cell_type": "code",
      "source": [
        "a = 4"
      ],
      "metadata": {
        "id": "cXi_tLFEveik"
      },
      "execution_count": 65,
      "outputs": []
    },
    {
      "cell_type": "code",
      "source": [
        "a == 5"
      ],
      "metadata": {
        "colab": {
          "base_uri": "https://localhost:8080/"
        },
        "id": "WTmZ7nSZwZdt",
        "outputId": "3f65e9db-4ae9-40c0-d7b4-dbd53e08213f"
      },
      "execution_count": 58,
      "outputs": [
        {
          "output_type": "execute_result",
          "data": {
            "text/plain": [
              "False"
            ]
          },
          "metadata": {},
          "execution_count": 58
        }
      ]
    },
    {
      "cell_type": "code",
      "source": [
        "a == 155"
      ],
      "metadata": {
        "colab": {
          "base_uri": "https://localhost:8080/"
        },
        "id": "Tx9cw91cweOP",
        "outputId": "76d4dcaf-b6a3-493f-c2a2-ddcf7d19c87f"
      },
      "execution_count": 59,
      "outputs": [
        {
          "output_type": "execute_result",
          "data": {
            "text/plain": [
              "False"
            ]
          },
          "metadata": {},
          "execution_count": 59
        }
      ]
    },
    {
      "cell_type": "code",
      "source": [
        "a == 100000001"
      ],
      "metadata": {
        "colab": {
          "base_uri": "https://localhost:8080/"
        },
        "id": "167XIAC6w9Ab",
        "outputId": "8106f56f-4f4b-4b4a-c71b-b6e944d6d395"
      },
      "execution_count": 60,
      "outputs": [
        {
          "output_type": "execute_result",
          "data": {
            "text/plain": [
              "False"
            ]
          },
          "metadata": {},
          "execution_count": 60
        }
      ]
    },
    {
      "cell_type": "code",
      "source": [
        "Odd(10000)"
      ],
      "metadata": {
        "colab": {
          "base_uri": "https://localhost:8080/"
        },
        "id": "NPBJsUrow-99",
        "outputId": "a2b5e330-b464-4e26-e64a-70f467e99366"
      },
      "execution_count": 62,
      "outputs": [
        {
          "output_type": "execute_result",
          "data": {
            "text/plain": [
              "False"
            ]
          },
          "metadata": {},
          "execution_count": 62
        }
      ]
    },
    {
      "cell_type": "code",
      "source": [],
      "metadata": {
        "id": "ipftpqTzxBhA"
      },
      "execution_count": null,
      "outputs": []
    }
  ]
}