{
  "nbformat": 4,
  "nbformat_minor": 0,
  "metadata": {
    "colab": {
      "provenance": [],
      "authorship_tag": "ABX9TyNp0iT2MTmFwmXPoJugF15G",
      "include_colab_link": true
    },
    "kernelspec": {
      "name": "python3",
      "display_name": "Python 3"
    },
    "language_info": {
      "name": "python"
    }
  },
  "cells": [
    {
      "cell_type": "markdown",
      "metadata": {
        "id": "view-in-github",
        "colab_type": "text"
      },
      "source": [
        "<a href=\"https://colab.research.google.com/github/nicolesbishop/Datascience/blob/main/02072023.ipynb\" target=\"_parent\"><img src=\"https://colab.research.google.com/assets/colab-badge.svg\" alt=\"Open In Colab\"/></a>"
      ]
    },
    {
      "cell_type": "code",
      "execution_count": null,
      "metadata": {
        "colab": {
          "base_uri": "https://localhost:8080/",
          "height": 373
        },
        "id": "tEvXOM-izGOp",
        "outputId": "7cbd08a5-753d-44e2-ef99-a5de36436091"
      },
      "outputs": [
        {
          "output_type": "error",
          "ename": "ModuleNotFoundError",
          "evalue": "ignored",
          "traceback": [
            "\u001b[0;31m---------------------------------------------------------------------------\u001b[0m",
            "\u001b[0;31mModuleNotFoundError\u001b[0m                       Traceback (most recent call last)",
            "\u001b[0;32m<ipython-input-1-085a9aafd226>\u001b[0m in \u001b[0;36m<module>\u001b[0;34m()\u001b[0m\n\u001b[0;32m----> 1\u001b[0;31m \u001b[0;32mimport\u001b[0m \u001b[0mpymatgen\u001b[0m \u001b[0;32mas\u001b[0m \u001b[0mpymat\u001b[0m\u001b[0;34m\u001b[0m\u001b[0;34m\u001b[0m\u001b[0m\n\u001b[0m\u001b[1;32m      2\u001b[0m \u001b[0;32mimport\u001b[0m \u001b[0mmendeleev\u001b[0m \u001b[0;32mas\u001b[0m \u001b[0mmendel\u001b[0m\u001b[0;34m\u001b[0m\u001b[0;34m\u001b[0m\u001b[0m\n\u001b[1;32m      3\u001b[0m \u001b[0;32mimport\u001b[0m \u001b[0mpandas\u001b[0m \u001b[0;32mas\u001b[0m \u001b[0mpd\u001b[0m\u001b[0;34m\u001b[0m\u001b[0;34m\u001b[0m\u001b[0m\n\u001b[1;32m      4\u001b[0m \u001b[0;32mimport\u001b[0m \u001b[0mnumpy\u001b[0m \u001b[0;32mas\u001b[0m \u001b[0mnp\u001b[0m\u001b[0;34m\u001b[0m\u001b[0;34m\u001b[0m\u001b[0m\n\u001b[1;32m      5\u001b[0m \u001b[0;32mfrom\u001b[0m \u001b[0mpathlib\u001b[0m \u001b[0;32mimport\u001b[0m \u001b[0mPath\u001b[0m\u001b[0;34m\u001b[0m\u001b[0;34m\u001b[0m\u001b[0m\n",
            "\u001b[0;31mModuleNotFoundError\u001b[0m: No module named 'pymatgen'",
            "",
            "\u001b[0;31m---------------------------------------------------------------------------\u001b[0;32m\nNOTE: If your import is failing due to a missing package, you can\nmanually install dependencies using either !pip or !apt.\n\nTo view examples of installing some common dependencies, click the\n\"Open Examples\" button below.\n\u001b[0;31m---------------------------------------------------------------------------\u001b[0m\n"
          ],
          "errorDetails": {
            "actions": [
              {
                "action": "open_url",
                "actionText": "Open Examples",
                "url": "/notebooks/snippets/importing_libraries.ipynb"
              }
            ]
          }
        }
      ],
      "source": [
        "import pymatgen as pymat\n",
        "import mendeleev as mendel\n",
        "import pandas as pd\n",
        "import numpy as np\n",
        "from pathlib import Path\n",
        "import tensorflow as tf\n",
        "import tensorflow.keras\n",
        "from tensorflow.keras import initializers\n",
        "from tensorflow.keras.layers import Dense\n",
        "from tensorflow.keras.models import Sequential\n",
        "from tensorflow.keras import optimizers\n",
        "\n",
        "import sys\n",
        "import os\n",
        "sys.path.insert(0, '../src/')\n",
        "\n",
        "%matplotlib inline\n",
        "import matplotlib.pyplot as plt"
      ]
    },
    {
      "cell_type": "code",
      "source": [
        "df = pd.read_csv(Path('../CleanData/PCA.csv'))\n",
        "df"
      ],
      "metadata": {
        "id": "YuD9f9g3zQj8",
        "outputId": "e966c307-64c0-4127-de59-c11fa4e55c89",
        "colab": {
          "base_uri": "https://localhost:8080/",
          "height": 183
        }
      },
      "execution_count": null,
      "outputs": [
        {
          "output_type": "error",
          "ename": "NameError",
          "evalue": "ignored",
          "traceback": [
            "\u001b[0;31m---------------------------------------------------------------------------\u001b[0m",
            "\u001b[0;31mNameError\u001b[0m                                 Traceback (most recent call last)",
            "\u001b[0;32m<ipython-input-2-0db923081674>\u001b[0m in \u001b[0;36m<module>\u001b[0;34m()\u001b[0m\n\u001b[0;32m----> 1\u001b[0;31m \u001b[0mdf\u001b[0m \u001b[0;34m=\u001b[0m \u001b[0mpd\u001b[0m\u001b[0;34m.\u001b[0m\u001b[0mread_csv\u001b[0m\u001b[0;34m(\u001b[0m\u001b[0mPath\u001b[0m\u001b[0;34m(\u001b[0m\u001b[0;34m'../CleanData/PCA.csv'\u001b[0m\u001b[0;34m)\u001b[0m\u001b[0;34m)\u001b[0m\u001b[0;34m\u001b[0m\u001b[0;34m\u001b[0m\u001b[0m\n\u001b[0m\u001b[1;32m      2\u001b[0m \u001b[0mdf\u001b[0m\u001b[0;34m\u001b[0m\u001b[0;34m\u001b[0m\u001b[0m\n",
            "\u001b[0;31mNameError\u001b[0m: name 'pd' is not defined"
          ]
        }
      ]
    },
    {
      "cell_type": "code",
      "source": [
        "import pymatgen as pymat\n",
        "import mendeleev as mendel\n",
        "import pandas as pd"
      ],
      "metadata": {
        "id": "AOnFo70ozRF6",
        "colab": {
          "base_uri": "https://localhost:8080/",
          "height": 347
        },
        "outputId": "0bb432e9-e99c-424d-9f2c-c39be70e6938"
      },
      "execution_count": null,
      "outputs": [
        {
          "output_type": "error",
          "ename": "ModuleNotFoundError",
          "evalue": "ignored",
          "traceback": [
            "\u001b[0;31m---------------------------------------------------------------------------\u001b[0m",
            "\u001b[0;31mModuleNotFoundError\u001b[0m                       Traceback (most recent call last)",
            "\u001b[0;32m<ipython-input-1-7309182d307d>\u001b[0m in \u001b[0;36m<module>\u001b[0;34m\u001b[0m\n\u001b[0;32m----> 1\u001b[0;31m \u001b[0;32mimport\u001b[0m \u001b[0mpymatgen\u001b[0m \u001b[0;32mas\u001b[0m \u001b[0mpymat\u001b[0m\u001b[0;34m\u001b[0m\u001b[0;34m\u001b[0m\u001b[0m\n\u001b[0m\u001b[1;32m      2\u001b[0m \u001b[0;32mimport\u001b[0m \u001b[0mmendeleev\u001b[0m \u001b[0;32mas\u001b[0m \u001b[0mmendel\u001b[0m\u001b[0;34m\u001b[0m\u001b[0;34m\u001b[0m\u001b[0m\n\u001b[1;32m      3\u001b[0m \u001b[0;32mimport\u001b[0m \u001b[0mpandas\u001b[0m \u001b[0;32mas\u001b[0m \u001b[0mpd\u001b[0m\u001b[0;34m\u001b[0m\u001b[0;34m\u001b[0m\u001b[0m\n",
            "\u001b[0;31mModuleNotFoundError\u001b[0m: No module named 'pymatgen'",
            "",
            "\u001b[0;31m---------------------------------------------------------------------------\u001b[0;32m\nNOTE: If your import is failing due to a missing package, you can\nmanually install dependencies using either !pip or !apt.\n\nTo view examples of installing some common dependencies, click the\n\"Open Examples\" button below.\n\u001b[0;31m---------------------------------------------------------------------------\u001b[0m\n"
          ],
          "errorDetails": {
            "actions": [
              {
                "action": "open_url",
                "actionText": "Open Examples",
                "url": "/notebooks/snippets/importing_libraries.ipynb"
              }
            ]
          }
        }
      ]
    },
    {
      "cell_type": "code",
      "source": [
        "# Python Beginner variables:\n",
        "#200 people need 2kg of food every day, 1000kg for the truck to send food, how many trucks we need for all these people to survive for 5 days?\n",
        "2*200"
      ],
      "metadata": {
        "colab": {
          "base_uri": "https://localhost:8080/"
        },
        "id": "JTBsoSzcWFT7",
        "outputId": "f07da90c-6ba0-490f-d866-0e790d892c5f"
      },
      "execution_count": null,
      "outputs": [
        {
          "output_type": "execute_result",
          "data": {
            "text/plain": [
              "400"
            ]
          },
          "metadata": {},
          "execution_count": 2
        }
      ]
    },
    {
      "cell_type": "code",
      "source": [
        "400*5"
      ],
      "metadata": {
        "colab": {
          "base_uri": "https://localhost:8080/"
        },
        "id": "eikBWMK7XgXK",
        "outputId": "1f864e07-e059-4f37-f022-566cd35b1400"
      },
      "execution_count": null,
      "outputs": [
        {
          "output_type": "execute_result",
          "data": {
            "text/plain": [
              "2000"
            ]
          },
          "metadata": {},
          "execution_count": 3
        }
      ]
    },
    {
      "cell_type": "code",
      "source": [
        "2000 / 1000"
      ],
      "metadata": {
        "colab": {
          "base_uri": "https://localhost:8080/"
        },
        "id": "S1AwgBoCXkPo",
        "outputId": "bd2ea595-0324-46cb-fc67-7c6624a15707"
      },
      "execution_count": null,
      "outputs": [
        {
          "output_type": "execute_result",
          "data": {
            "text/plain": [
              "2.0"
            ]
          },
          "metadata": {},
          "execution_count": 4
        }
      ]
    },
    {
      "cell_type": "code",
      "source": [
        "food_is_kg_per_person_per_day = 2\n"
      ],
      "metadata": {
        "id": "6d7s5yC7Xquj"
      },
      "execution_count": null,
      "outputs": []
    },
    {
      "cell_type": "code",
      "source": [
        "number_people = 200"
      ],
      "metadata": {
        "id": "RCRsUCfEX_Dr"
      },
      "execution_count": null,
      "outputs": []
    },
    {
      "cell_type": "code",
      "source": [
        "num_days = 5"
      ],
      "metadata": {
        "id": "ezYttmqnYC2R"
      },
      "execution_count": null,
      "outputs": []
    },
    {
      "cell_type": "code",
      "source": [
        "truck_capacity_is_kg = 1000"
      ],
      "metadata": {
        "id": "U2T54EwdYFph"
      },
      "execution_count": null,
      "outputs": []
    },
    {
      "cell_type": "code",
      "source": [
        "total_food_in_kg_per_day = food_is_kg_per_person_per_day * number_people"
      ],
      "metadata": {
        "id": "Mt9V_eNCYIx5"
      },
      "execution_count": null,
      "outputs": []
    },
    {
      "cell_type": "code",
      "source": [
        "total_food_in_kg = total_food_in_kg_per_day * num_days"
      ],
      "metadata": {
        "id": "wE8XyO1NYWP-"
      },
      "execution_count": null,
      "outputs": []
    },
    {
      "cell_type": "code",
      "source": [
        "num_trucks = total_food_in_kg / truck_capacity_is_kg"
      ],
      "metadata": {
        "id": "kTibOAYgYe3o"
      },
      "execution_count": null,
      "outputs": []
    },
    {
      "cell_type": "code",
      "source": [
        "num_trucks"
      ],
      "metadata": {
        "colab": {
          "base_uri": "https://localhost:8080/"
        },
        "id": "IJ3qiOykYnoX",
        "outputId": "7e404c40-773f-450f-cd03-bb1b887de157"
      },
      "execution_count": null,
      "outputs": [
        {
          "output_type": "execute_result",
          "data": {
            "text/plain": [
              "2.0"
            ]
          },
          "metadata": {},
          "execution_count": 12
        }
      ]
    },
    {
      "cell_type": "code",
      "source": [
        "print (num_trucks)"
      ],
      "metadata": {
        "colab": {
          "base_uri": "https://localhost:8080/"
        },
        "id": "r25g0-6hYpQY",
        "outputId": "5bc7097e-d679-4fd0-ca43-f2e1ff56b054"
      },
      "execution_count": null,
      "outputs": [
        {
          "output_type": "stream",
          "name": "stdout",
          "text": [
            "2.0\n"
          ]
        }
      ]
    },
    {
      "cell_type": "code",
      "source": [
        "# Lesson is create functions.\n",
        "\n",
        "# If we need to send enough for 400 people to surve for 10 days, how many trucks do we need?\n",
        "\n",
        "\n"
      ],
      "metadata": {
        "id": "AmyfamqyY9y3"
      },
      "execution_count": null,
      "outputs": []
    },
    {
      "cell_type": "markdown",
      "source": [
        "Functions built."
      ],
      "metadata": {
        "id": "M7xR9GcyZbuE"
      }
    },
    {
      "cell_type": "code",
      "source": [
        "def get_num_trucks(food_is_kg_per_person_per_day, number_people, num_days, truck_capacity_is_kg):\n",
        "  total_food_in_kg_per_day = food_is_kg_per_person_per_day * number_people\n",
        "  total_food_in_kg = total_food_in_kg_per_day * num_days\n",
        "  num_trucks = total_food_in_kg / truck_capacity_is_kg\n",
        "  # print(num_trucks)\n",
        "\n",
        "  return num_trucks"
      ],
      "metadata": {
        "id": "Of2BK54nZa8L"
      },
      "execution_count": null,
      "outputs": []
    },
    {
      "cell_type": "code",
      "source": [
        "num_trucks_village_a = get_num_trucks(2, 400, 10, 1000)"
      ],
      "metadata": {
        "id": "r4jmzB77ptz7"
      },
      "execution_count": null,
      "outputs": []
    },
    {
      "cell_type": "code",
      "source": [
        "num_trucks_village_b = get_num_trucks(2, 200, 5, 1000)"
      ],
      "metadata": {
        "id": "SuqQxy5spteu"
      },
      "execution_count": null,
      "outputs": []
    },
    {
      "cell_type": "code",
      "source": [
        "num_trucks_village_a + num_trucks_village_b "
      ],
      "metadata": {
        "colab": {
          "base_uri": "https://localhost:8080/"
        },
        "id": "T-lvQDINqPjN",
        "outputId": "cc860296-4e43-47b6-fb76-48d6675ff64e"
      },
      "execution_count": null,
      "outputs": [
        {
          "output_type": "execute_result",
          "data": {
            "text/plain": [
              "10.0"
            ]
          },
          "metadata": {},
          "execution_count": 9
        }
      ]
    },
    {
      "cell_type": "code",
      "source": [
        "get_num_trucks(2, 400, 10, 1000)"
      ],
      "metadata": {
        "colab": {
          "base_uri": "https://localhost:8080/"
        },
        "id": "A2As3zVHa8La",
        "outputId": "47ecf6bb-96b2-4963-9c76-bdb8e53e85c0"
      },
      "execution_count": null,
      "outputs": [
        {
          "output_type": "execute_result",
          "data": {
            "text/plain": [
              "8.0"
            ]
          },
          "metadata": {},
          "execution_count": 10
        }
      ]
    },
    {
      "cell_type": "code",
      "source": [
        "get_num_trucks(2, 200, 5, 1000)"
      ],
      "metadata": {
        "colab": {
          "base_uri": "https://localhost:8080/"
        },
        "id": "4vHaJlfhbBJn",
        "outputId": "7d568f3f-9250-4d16-93d5-5ed1a7f18132"
      },
      "execution_count": null,
      "outputs": [
        {
          "output_type": "execute_result",
          "data": {
            "text/plain": [
              "2.0"
            ]
          },
          "metadata": {},
          "execution_count": 11
        }
      ]
    },
    {
      "cell_type": "markdown",
      "source": [
        "1. Build a function HelloWorld which returns \"Hello World\"\n"
      ],
      "metadata": {
        "id": "lc9wgBBbrvGe"
      }
    },
    {
      "cell_type": "code",
      "source": [
        "def HelloWorld():\n",
        "  return \"Hello World\""
      ],
      "metadata": {
        "id": "4nrBvSJkr27c"
      },
      "execution_count": null,
      "outputs": []
    },
    {
      "cell_type": "code",
      "source": [
        "HelloWorld"
      ],
      "metadata": {
        "colab": {
          "base_uri": "https://localhost:8080/"
        },
        "id": "GPt3L297sUbi",
        "outputId": "95cba74a-4d6d-4134-9655-b8bcdd59f6b5"
      },
      "execution_count": null,
      "outputs": [
        {
          "output_type": "execute_result",
          "data": {
            "text/plain": [
              "<function __main__.HelloWorld()>"
            ]
          },
          "metadata": {},
          "execution_count": 13
        }
      ]
    },
    {
      "cell_type": "code",
      "source": [
        "HelloWorld()"
      ],
      "metadata": {
        "colab": {
          "base_uri": "https://localhost:8080/",
          "height": 35
        },
        "id": "tVAYYaPcsZBV",
        "outputId": "1ae0e59a-550d-4268-b264-cbea47a1240e"
      },
      "execution_count": null,
      "outputs": [
        {
          "output_type": "execute_result",
          "data": {
            "text/plain": [
              "'Hello World'"
            ],
            "application/vnd.google.colaboratory.intrinsic+json": {
              "type": "string"
            }
          },
          "metadata": {},
          "execution_count": 14
        }
      ]
    },
    {
      "cell_type": "markdown",
      "source": [
        "2. Build a function LB2KG which takes a value in pound as input and returns the correponding value in kilograms. One pound equals 0.4536kg.\n",
        "\n",
        "Example:\n",
        "LG2KG(1) returns 0.4536."
      ],
      "metadata": {
        "id": "xf8s_Jzvsdoc"
      }
    },
    {
      "cell_type": "code",
      "source": [
        "def LB2KG(weight_in_pounds):\n",
        "  weight_in_kg = weight_in_pounds * 0.4536\n",
        "  return weight_in_kg"
      ],
      "metadata": {
        "id": "GCTUyd3Es_Fe"
      },
      "execution_count": null,
      "outputs": []
    },
    {
      "cell_type": "code",
      "source": [
        "LB2KG(1)"
      ],
      "metadata": {
        "colab": {
          "base_uri": "https://localhost:8080/"
        },
        "id": "LiFbxJWktkui",
        "outputId": "04db6d81-dea0-47b4-84d1-f6a8f681ebc3"
      },
      "execution_count": null,
      "outputs": [
        {
          "output_type": "execute_result",
          "data": {
            "text/plain": [
              "0.4536"
            ]
          },
          "metadata": {},
          "execution_count": 23
        }
      ]
    },
    {
      "cell_type": "markdown",
      "source": [
        "# Build a function Odd which takes an integer as input and returns a boolin to tell whether the integer is odd or not.\n",
        "#Odd(3) returns True\n",
        "#Odd(4) returns False#"
      ],
      "metadata": {
        "id": "6Z5M_dHguKnC"
      }
    },
    {
      "cell_type": "code",
      "source": [
        "def Odd(number):\n",
        "  if number %2 == 0:\n",
        "    return False\n",
        "  else:\n",
        "    return True\n",
        "  # if number %2 != 0:\n",
        "    \n",
        "\n"
      ],
      "metadata": {
        "id": "8AehD4X2cF01"
      },
      "execution_count": null,
      "outputs": []
    },
    {
      "cell_type": "code",
      "source": [
        "def Odd(number):\n",
        "  return number %2 != 0\n"
      ],
      "metadata": {
        "id": "8mHtiJFzxFwh"
      },
      "execution_count": null,
      "outputs": []
    },
    {
      "cell_type": "code",
      "source": [
        "Odd(3)"
      ],
      "metadata": {
        "colab": {
          "base_uri": "https://localhost:8080/"
        },
        "id": "iURKVairv4Zz",
        "outputId": "49cb2999-0dc4-43da-a040-aa54433e4c5c"
      },
      "execution_count": null,
      "outputs": [
        {
          "output_type": "execute_result",
          "data": {
            "text/plain": [
              "True"
            ]
          },
          "metadata": {},
          "execution_count": 45
        }
      ]
    },
    {
      "cell_type": "code",
      "source": [
        "Odd(4)"
      ],
      "metadata": {
        "colab": {
          "base_uri": "https://localhost:8080/"
        },
        "id": "VifO3QBdvZN6",
        "outputId": "b3196e93-d4c7-4428-eeb4-66bf7ec471ff"
      },
      "execution_count": null,
      "outputs": [
        {
          "output_type": "execute_result",
          "data": {
            "text/plain": [
              "False"
            ]
          },
          "metadata": {},
          "execution_count": 46
        }
      ]
    },
    {
      "cell_type": "code",
      "source": [
        "Odd(222222)"
      ],
      "metadata": {
        "colab": {
          "base_uri": "https://localhost:8080/"
        },
        "id": "NgsU4OmvxWxS",
        "outputId": "56113f36-0204-40ff-c759-4c6a8d70c61e"
      },
      "execution_count": null,
      "outputs": [
        {
          "output_type": "execute_result",
          "data": {
            "text/plain": [
              "False"
            ]
          },
          "metadata": {},
          "execution_count": 47
        }
      ]
    },
    {
      "cell_type": "code",
      "source": [
        "8%2"
      ],
      "metadata": {
        "colab": {
          "base_uri": "https://localhost:8080/"
        },
        "id": "baQD-A36vguW",
        "outputId": "17127547-895c-4cbc-83ef-ba780896d3d1"
      },
      "execution_count": null,
      "outputs": [
        {
          "output_type": "execute_result",
          "data": {
            "text/plain": [
              "0"
            ]
          },
          "metadata": {},
          "execution_count": 28
        }
      ]
    },
    {
      "cell_type": "code",
      "source": [
        "9%2"
      ],
      "metadata": {
        "colab": {
          "base_uri": "https://localhost:8080/"
        },
        "id": "MIDsAKMYvjsV",
        "outputId": "986b5deb-36ee-4b0b-8a51-bbf2509429ec"
      },
      "execution_count": null,
      "outputs": [
        {
          "output_type": "execute_result",
          "data": {
            "text/plain": [
              "1"
            ]
          },
          "metadata": {},
          "execution_count": 29
        }
      ]
    },
    {
      "cell_type": "code",
      "source": [
        "a = 4\n"
      ],
      "metadata": {
        "id": "gNKmjUQkv9tl"
      },
      "execution_count": null,
      "outputs": []
    },
    {
      "cell_type": "code",
      "source": [
        "a == 5"
      ],
      "metadata": {
        "colab": {
          "base_uri": "https://localhost:8080/"
        },
        "id": "uqOLpIK4wAdT",
        "outputId": "a53cb30a-550c-4827-afe8-2c7452221548"
      },
      "execution_count": null,
      "outputs": [
        {
          "output_type": "execute_result",
          "data": {
            "text/plain": [
              "False"
            ]
          },
          "metadata": {},
          "execution_count": 35
        }
      ]
    },
    {
      "cell_type": "code",
      "source": [
        "a != 4"
      ],
      "metadata": {
        "colab": {
          "base_uri": "https://localhost:8080/"
        },
        "id": "MVfSiLSWwAa1",
        "outputId": "a535304c-3b5f-4e15-89d9-ed67922c41e6"
      },
      "execution_count": null,
      "outputs": [
        {
          "output_type": "execute_result",
          "data": {
            "text/plain": [
              "False"
            ]
          },
          "metadata": {},
          "execution_count": 36
        }
      ]
    },
    {
      "cell_type": "code",
      "source": [
        "a!= 5"
      ],
      "metadata": {
        "colab": {
          "base_uri": "https://localhost:8080/"
        },
        "id": "mxbanO3wwI8f",
        "outputId": "ed2fdfb1-dc96-4950-c38e-0260df054d2b"
      },
      "execution_count": null,
      "outputs": [
        {
          "output_type": "execute_result",
          "data": {
            "text/plain": [
              "True"
            ]
          },
          "metadata": {},
          "execution_count": 38
        }
      ]
    },
    {
      "cell_type": "markdown",
      "source": [
        "Build a function FizzBuzz which takes a positive integer as input. If the number is divisible by 3, the function returns \"Fizz\". If the number is divisible by 5, the function returns \"Buzz\". If the number is divisible by both 3 and 5, the function returns \"FizzBuzz\". Otherwise, the function returns the number itself.\n",
        "\n",
        "FizzBuzz(45) returns \"FizzBuzz\"\n",
        "\n",
        "\n",
        "FizzBuzz(9) returns \"Fizz\"\n",
        "\n",
        "FizzBuzz(25) returns \"Buzz\"\n",
        "\n",
        "FizzBuzz(17) returns \"17\""
      ],
      "metadata": {
        "id": "q1Dw-u0LSkyE"
      }
    },
    {
      "cell_type": "code",
      "source": [
        "def FizzBuzz(num):\n",
        "  \n",
        "  #if num %3 == 0 and num %5 == 0:\n",
        "  if num %15 == 0:\n",
        "    return \"FizzBuzz\"\n",
        "    \n",
        "\n",
        "  if num %3 == 0:\n",
        "    return \"Fizz\"\n",
        "  if num %5 == 0:\n",
        "    return \"Buzz\"\n",
        "  \n",
        "\n",
        "  return num\n"
      ],
      "metadata": {
        "id": "B9R55L6BSl_o"
      },
      "execution_count": null,
      "outputs": []
    },
    {
      "cell_type": "code",
      "source": [
        "FizzBuzz(15)"
      ],
      "metadata": {
        "colab": {
          "base_uri": "https://localhost:8080/",
          "height": 35
        },
        "id": "bvs-IyDQIroV",
        "outputId": "2db5a241-fe45-4831-83a6-addf25cfd011"
      },
      "execution_count": null,
      "outputs": [
        {
          "output_type": "execute_result",
          "data": {
            "text/plain": [
              "'FizzBuzz'"
            ],
            "application/vnd.google.colaboratory.intrinsic+json": {
              "type": "string"
            }
          },
          "metadata": {},
          "execution_count": 7
        }
      ]
    },
    {
      "cell_type": "code",
      "source": [
        "def FizzBuzz(num):\n",
        "  result = num\n",
        "  #if num %3 == 0 and num %5 == 0:\n",
        "  if num %15 == 0:\n",
        "    result = \"FizzBuzz\"\n",
        "    print(result, \"can be divided by 15\")\n",
        "  else:\n",
        "\n",
        "      if num %3 == 0:\n",
        "\n",
        "        result = \"Fizz\"\n",
        "        print(result, \"can be divided by 3\")\n",
        "      if num %5 == 0:\n",
        "\n",
        "        result = \"Buzz\"\n",
        "        print(result, \"can be divided by 5\")\n",
        "\n",
        "  \n",
        "\n",
        "  return result"
      ],
      "metadata": {
        "id": "Bx9LTUW2KBB_"
      },
      "execution_count": 3,
      "outputs": []
    },
    {
      "cell_type": "code",
      "source": [
        "def FizzBuzz(num):\n",
        "  result = num\n",
        "  #if num %3 == 0 and num %5 == 0:\n",
        "  if num %15 == 0:\n",
        "    result = \"FizzBuzz\"\n",
        "    print(result, \"can be divided by 15\")\n",
        "  elif num %3 == 0:\n",
        "\n",
        "        result = \"Fizz\"\n",
        "        print(result, \"can be divided by 3\")\n",
        "  elif num %5 == 0:\n",
        "\n",
        "        result = \"Buzz\"\n",
        "        print(result, \"can be divided by 5\")\n",
        "\n",
        "  return result\n"
      ],
      "metadata": {
        "id": "rpawxcfngQo_"
      },
      "execution_count": 5,
      "outputs": []
    },
    {
      "cell_type": "code",
      "source": [
        "FizzBuzz(45)"
      ],
      "metadata": {
        "colab": {
          "base_uri": "https://localhost:8080/",
          "height": 52
        },
        "id": "gGFLKFLMRk-U",
        "outputId": "fbdcf4a7-7661-4c46-d997-5ccf84b6bf1d"
      },
      "execution_count": 6,
      "outputs": [
        {
          "output_type": "stream",
          "name": "stdout",
          "text": [
            "FizzBuzz can be divided by 15\n"
          ]
        },
        {
          "output_type": "execute_result",
          "data": {
            "text/plain": [
              "'FizzBuzz'"
            ],
            "application/vnd.google.colaboratory.intrinsic+json": {
              "type": "string"
            }
          },
          "metadata": {},
          "execution_count": 6
        }
      ]
    },
    {
      "cell_type": "markdown",
      "source": [
        "Square Root\n",
        "Description\n",
        "Build a function sqrt to calculate the square root of a positive integer number. If the result is not a integer, the function returns the nearest integer to the left of the result number\n",
        "\n",
        "Examples:\n",
        "sqrt(16) returns 4\n",
        "\n",
        "sqrt(17) returns 4\n",
        "\n",
        "sqrt(77) returns 8\n",
        "\n",
        "sqrt(1) returns 1"
      ],
      "metadata": {
        "id": "AANinziPS44E"
      }
    },
    {
      "cell_type": "code",
      "source": [
        "def sqrt(num):\n",
        "  for i in range(0, num+1):\n",
        "    if i * i == num:\n",
        "      return i\n",
        "    if i * i > num:\n",
        "      return i - 1\n",
        "    else:\n",
        "      False\n",
        "\n"
      ],
      "metadata": {
        "id": "phZezthsS-Y9"
      },
      "execution_count": null,
      "outputs": []
    },
    {
      "cell_type": "code",
      "source": [
        "time(sqrt(1777777777777777))"
      ],
      "metadata": {
        "colab": {
          "base_uri": "https://localhost:8080/"
        },
        "id": "zJcJW18R8Elu",
        "outputId": "497a84ae-9cb0-4f92-c26b-7a53356a04fa"
      },
      "execution_count": null,
      "outputs": [
        {
          "output_type": "stream",
          "name": "stdout",
          "text": [
            "CPU times: user 6.52 s, sys: 0 ns, total: 6.52 s\n",
            "Wall time: 6.54 s\n"
          ]
        },
        {
          "output_type": "execute_result",
          "data": {
            "text/plain": [
              "42163702"
            ]
          },
          "metadata": {},
          "execution_count": 63
        }
      ]
    },
    {
      "cell_type": "code",
      "source": [
        "time(sqrt(17))"
      ],
      "metadata": {
        "colab": {
          "base_uri": "https://localhost:8080/"
        },
        "id": "Jpfr0-_i8GpN",
        "outputId": "a9f53de4-e930-49f5-bddf-cfa4994e8809"
      },
      "execution_count": null,
      "outputs": [
        {
          "output_type": "stream",
          "name": "stdout",
          "text": [
            "CPU times: user 9 µs, sys: 0 ns, total: 9 µs\n",
            "Wall time: 12.9 µs\n"
          ]
        },
        {
          "output_type": "execute_result",
          "data": {
            "text/plain": [
              "4"
            ]
          },
          "metadata": {},
          "execution_count": 62
        }
      ]
    },
    {
      "cell_type": "code",
      "source": [
        "for i in range (1,10):\n",
        "  print(i)"
      ],
      "metadata": {
        "colab": {
          "base_uri": "https://localhost:8080/"
        },
        "id": "1HMBBnBN8le5",
        "outputId": "25143a8f-7982-43bb-b989-70051086de38"
      },
      "execution_count": null,
      "outputs": [
        {
          "output_type": "stream",
          "name": "stdout",
          "text": [
            "1\n",
            "2\n",
            "3\n",
            "4\n",
            "5\n",
            "6\n",
            "7\n",
            "8\n",
            "9\n"
          ]
        }
      ]
    },
    {
      "cell_type": "code",
      "source": [
        "for i in range (1,17,2):\n",
        "  print(i)"
      ],
      "metadata": {
        "colab": {
          "base_uri": "https://localhost:8080/"
        },
        "id": "JaBh9m-M9GwC",
        "outputId": "9bc80124-4871-4f81-844a-a1729a332d75"
      },
      "execution_count": null,
      "outputs": [
        {
          "output_type": "stream",
          "name": "stdout",
          "text": [
            "1\n",
            "3\n",
            "5\n",
            "7\n",
            "9\n",
            "11\n",
            "13\n",
            "15\n"
          ]
        }
      ]
    },
    {
      "cell_type": "code",
      "source": [
        "import numpy as np\n",
        "np.sqrt(16)"
      ],
      "metadata": {
        "colab": {
          "base_uri": "https://localhost:8080/"
        },
        "id": "TcUCt1Yx5g60",
        "outputId": "baa44753-6173-48e4-ee02-cfac5dae1287"
      },
      "execution_count": null,
      "outputs": [
        {
          "output_type": "execute_result",
          "data": {
            "text/plain": [
              "4.0"
            ]
          },
          "metadata": {},
          "execution_count": 51
        }
      ]
    },
    {
      "cell_type": "markdown",
      "source": [
        "While loop instead of the For Loop."
      ],
      "metadata": {
        "id": "-ZRb8KbwiOGP"
      }
    },
    {
      "cell_type": "code",
      "source": [
        "def sqrt(num):\n",
        "    i = 0\n",
        "    while i * i <= num:\n",
        "        i += 1\n",
        "    return i - 1"
      ],
      "metadata": {
        "id": "gp37lmJm6RV5"
      },
      "execution_count": 13,
      "outputs": []
    },
    {
      "cell_type": "code",
      "source": [
        "sqrt(10)"
      ],
      "metadata": {
        "colab": {
          "base_uri": "https://localhost:8080/"
        },
        "id": "53vQ225miyyQ",
        "outputId": "cb5bc4a4-b452-44ac-a1ef-43b1ac0f2e78"
      },
      "execution_count": 14,
      "outputs": [
        {
          "output_type": "execute_result",
          "data": {
            "text/plain": [
              "3"
            ]
          },
          "metadata": {},
          "execution_count": 14
        }
      ]
    },
    {
      "cell_type": "code",
      "source": [
        "sqrt(100)"
      ],
      "metadata": {
        "colab": {
          "base_uri": "https://localhost:8080/"
        },
        "id": "3ONGUTNPi27j",
        "outputId": "de2bcbf2-f9fc-4320-d33b-7e674fd4a1dc"
      },
      "execution_count": 15,
      "outputs": [
        {
          "output_type": "execute_result",
          "data": {
            "text/plain": [
              "10"
            ]
          },
          "metadata": {},
          "execution_count": 15
        }
      ]
    },
    {
      "cell_type": "code",
      "source": [
        "sqrt(0)"
      ],
      "metadata": {
        "colab": {
          "base_uri": "https://localhost:8080/"
        },
        "id": "JYZo2_d0i_yA",
        "outputId": "56e417fe-c443-4fbd-865d-b64a1febbf3f"
      },
      "execution_count": 16,
      "outputs": [
        {
          "output_type": "execute_result",
          "data": {
            "text/plain": [
              "0"
            ]
          },
          "metadata": {},
          "execution_count": 16
        }
      ]
    },
    {
      "cell_type": "code",
      "source": [
        "sqrt(17)"
      ],
      "metadata": {
        "colab": {
          "base_uri": "https://localhost:8080/"
        },
        "id": "rKlNCHI1jvU3",
        "outputId": "43abb618-f39d-48e8-c34b-464dd88346ac"
      },
      "execution_count": 17,
      "outputs": [
        {
          "output_type": "execute_result",
          "data": {
            "text/plain": [
              "4"
            ]
          },
          "metadata": {},
          "execution_count": 17
        }
      ]
    },
    {
      "cell_type": "code",
      "source": [
        "sqrt(77)"
      ],
      "metadata": {
        "colab": {
          "base_uri": "https://localhost:8080/"
        },
        "id": "L_a7jS79j5L9",
        "outputId": "558d8e43-0875-4e23-e07c-6c2a64bdd8cf"
      },
      "execution_count": 18,
      "outputs": [
        {
          "output_type": "execute_result",
          "data": {
            "text/plain": [
              "8"
            ]
          },
          "metadata": {},
          "execution_count": 18
        }
      ]
    },
    {
      "cell_type": "code",
      "source": [
        "a = 1\n"
      ],
      "metadata": {
        "id": "gse4khgWj6-Q"
      },
      "execution_count": 19,
      "outputs": []
    },
    {
      "cell_type": "code",
      "source": [
        "a"
      ],
      "metadata": {
        "colab": {
          "base_uri": "https://localhost:8080/"
        },
        "id": "MCcIjY6akDno",
        "outputId": "5c747c42-c580-41ed-afd6-4955c3307126"
      },
      "execution_count": 20,
      "outputs": [
        {
          "output_type": "execute_result",
          "data": {
            "text/plain": [
              "1"
            ]
          },
          "metadata": {},
          "execution_count": 20
        }
      ]
    },
    {
      "cell_type": "code",
      "source": [
        "a += 1"
      ],
      "metadata": {
        "id": "CQwUBKU5kEww"
      },
      "execution_count": 21,
      "outputs": []
    },
    {
      "cell_type": "code",
      "source": [
        "a"
      ],
      "metadata": {
        "colab": {
          "base_uri": "https://localhost:8080/"
        },
        "id": "o4RzUu3JkGXC",
        "outputId": "ae2eaba9-9874-47d5-d4d5-bd6fb645e3a9"
      },
      "execution_count": 22,
      "outputs": [
        {
          "output_type": "execute_result",
          "data": {
            "text/plain": [
              "2"
            ]
          },
          "metadata": {},
          "execution_count": 22
        }
      ]
    },
    {
      "cell_type": "code",
      "source": [
        "a += 3"
      ],
      "metadata": {
        "id": "Im11iwrXkHKZ"
      },
      "execution_count": 23,
      "outputs": []
    },
    {
      "cell_type": "code",
      "source": [
        "a"
      ],
      "metadata": {
        "colab": {
          "base_uri": "https://localhost:8080/"
        },
        "id": "UBiS6ceHkJ5D",
        "outputId": "3d5aed9e-e879-4514-d56b-3aba36f74e29"
      },
      "execution_count": 24,
      "outputs": [
        {
          "output_type": "execute_result",
          "data": {
            "text/plain": [
              "5"
            ]
          },
          "metadata": {},
          "execution_count": 24
        }
      ]
    },
    {
      "cell_type": "code",
      "source": [
        "a = a+1"
      ],
      "metadata": {
        "id": "hZ1nzEDDkKXV"
      },
      "execution_count": 25,
      "outputs": []
    },
    {
      "cell_type": "code",
      "source": [
        "a"
      ],
      "metadata": {
        "colab": {
          "base_uri": "https://localhost:8080/"
        },
        "id": "tRegJMdikO2R",
        "outputId": "c31282b4-7395-48a8-ec32-82830529f671"
      },
      "execution_count": 26,
      "outputs": [
        {
          "output_type": "execute_result",
          "data": {
            "text/plain": [
              "6"
            ]
          },
          "metadata": {},
          "execution_count": 26
        }
      ]
    },
    {
      "cell_type": "code",
      "source": [
        "def sqrt(num):\n",
        "    i = 0\n",
        "    while i * i <= num:\n",
        "        i += 1\n",
        "        print(i, i*i, num)\n",
        "    return i - 1"
      ],
      "metadata": {
        "id": "2z0QEJoVkPii"
      },
      "execution_count": 35,
      "outputs": []
    },
    {
      "cell_type": "code",
      "source": [
        "sqrt(77)"
      ],
      "metadata": {
        "colab": {
          "base_uri": "https://localhost:8080/"
        },
        "id": "BdXOdA9gkeEd",
        "outputId": "01d43f67-fdae-44ef-e8e3-6a2b0544eada"
      },
      "execution_count": 36,
      "outputs": [
        {
          "output_type": "stream",
          "name": "stdout",
          "text": [
            "1 1 77\n",
            "2 4 77\n",
            "3 9 77\n",
            "4 16 77\n",
            "5 25 77\n",
            "6 36 77\n",
            "7 49 77\n",
            "8 64 77\n",
            "9 81 77\n"
          ]
        },
        {
          "output_type": "execute_result",
          "data": {
            "text/plain": [
              "8"
            ]
          },
          "metadata": {},
          "execution_count": 36
        }
      ]
    },
    {
      "cell_type": "code",
      "source": [],
      "metadata": {
        "id": "xdS4S5L2kf2U"
      },
      "execution_count": null,
      "outputs": []
    }
  ]
}